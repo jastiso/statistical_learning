{
 "cells": [
  {
   "cell_type": "code",
   "execution_count": null,
   "metadata": {},
   "outputs": [],
   "source": [
    "import pandas as pd\n",
    "import numpy as np\n",
    "import json\n",
    "import os"
   ]
  },
  {
   "cell_type": "markdown",
   "metadata": {},
   "source": [
    "## Run export_SQL.sh"
   ]
  },
  {
   "cell_type": "code",
   "execution_count": null,
   "metadata": {},
   "outputs": [],
   "source": [
    "data_dir = '~/Documents/Python/graphLearning/mTurk-10-trans-prob/'"
   ]
  },
  {
   "cell_type": "code",
   "execution_count": null,
   "metadata": {},
   "outputs": [],
   "source": [
    "participants = pd.read_csv(\"\".join([data_dir, 'experiment/data/raw/participants_test.csv.gz']))\n",
    "participants.head(n=10)"
   ]
  },
  {
   "cell_type": "code",
   "execution_count": null,
   "metadata": {},
   "outputs": [],
   "source": [
    "np.sum(participants['workerid'] == \"A2EFENZUAL6Z9V\")"
   ]
  },
  {
   "cell_type": "code",
   "execution_count": null,
   "metadata": {},
   "outputs": [],
   "source": [
    "participants = participants[participants['workerid'] == \"A2EFENZUAL6Z9V\"]\n",
    "participants.info()"
   ]
  },
  {
   "cell_type": "code",
   "execution_count": null,
   "metadata": {},
   "outputs": [],
   "source": [
    "experiment = pd.read_csv(\"\".join([data_dir, '/experiment/data/raw/experiment_test.csv.gz']))\n",
    "experiment.head(n=10)"
   ]
  },
  {
   "cell_type": "code",
   "execution_count": null,
   "metadata": {},
   "outputs": [],
   "source": [
    "walkdata = pd.read_csv(\"\".join([data_dir, '/experiment/data/raw/walkdata_test.csv.gz']))\n",
    "walkdata.head(n=10)"
   ]
  },
  {
   "cell_type": "code",
   "execution_count": null,
   "metadata": {},
   "outputs": [],
   "source": [
    "datastring = \\\n",
    "    participants.\\\n",
    "    loc[~participants.datastring.isnull()].\\\n",
    "    datastring.\\\n",
    "    apply(json.loads).\\\n",
    "    apply(pd.Series)"
   ]
  },
  {
   "cell_type": "code",
   "execution_count": null,
   "metadata": {},
   "outputs": [],
   "source": [
    "import zlib\n",
    "import base64\n",
    "from json import loads\n",
    "def decompress_pako(datastring):\n",
    "    \"\"\"\n",
    "    Decompress json data that we compressed in the browser with paco.\n",
    "    Assumes data was then base64-encoded:\n",
    "    btoa(pako.deflate(JSON.stringify(data), { to: 'string' }));\n",
    "    Parameters\n",
    "    ----------\n",
    "    datastring : string\n",
    "        base64-encoded json data to decompress\n",
    "    Returns\n",
    "    -------\n",
    "    dict\n",
    "        JSON-decoded and decompressed data\n",
    "    \"\"\"\n",
    "    data = loads(zlib.decompress(base64.b64decode(datastring)))\n",
    "    return data"
   ]
  },
  {
   "cell_type": "code",
   "execution_count": null,
   "metadata": {},
   "outputs": [],
   "source": [
    "taskdata_list = []\n",
    "for row in datastring.itertuples(index=False):\n",
    "    if 'compressed_task_data' in row.questiondata:\n",
    "        data = pd.DataFrame(decompress_pako(row.questiondata['compressed_task_data']))\n",
    "        data['workerid'] = row.workerId\n",
    "        data['assignmentid'] = row.assignmentId\n",
    "        data['uniqueid'] = data.workerid + ':' + data.assignmentid\n",
    "        taskdata_list.append(data)\n",
    "taskdata = pd.concat(taskdata_list).reset_index(drop=True)\n",
    "taskdata.tail(n=10)"
   ]
  },
  {
   "cell_type": "code",
   "execution_count": null,
   "metadata": {},
   "outputs": [],
   "source": [
    "taskdata[taskdata['event'] == 'correct'][taskdata['keyCode'] == 32]"
   ]
  }
 ],
 "metadata": {
  "kernelspec": {
   "display_name": "Python 2",
   "language": "python",
   "name": "python2"
  },
  "language_info": {
   "codemirror_mode": {
    "name": "ipython",
    "version": 2
   },
   "file_extension": ".py",
   "mimetype": "text/x-python",
   "name": "python",
   "nbconvert_exporter": "python",
   "pygments_lexer": "ipython2",
   "version": "2.7.15"
  }
 },
 "nbformat": 4,
 "nbformat_minor": 2
}
